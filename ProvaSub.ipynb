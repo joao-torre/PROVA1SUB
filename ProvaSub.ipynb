{
 "cells": [
  {
   "cell_type": "code",
   "execution_count": 7,
   "id": "403d9a73-b43d-4da4-85af-d98c6d6f05e2",
   "metadata": {},
   "outputs": [
    {
     "name": "stdin",
     "output_type": "stream",
     "text": [
      "Digite seu peso em kg:  68\n",
      "Digite sua altura em metros:  1.75\n"
     ]
    },
    {
     "name": "stdout",
     "output_type": "stream",
     "text": [
      "Seu IMC é: 22.20\n",
      "Classificação: Peso normal\n"
     ]
    }
   ],
   "source": [
    "##EXERCICIO 1\n",
    "peso = float(input(\"Digite seu peso em kg: \"))\n",
    "altura = float(input(\"Digite sua altura em metros: \"))\n",
    "\n",
    "imc = peso / (altura ** 2)\n",
    "\n",
    "print(f\"Seu IMC é: {imc:.2f}\")\n",
    "\n",
    "if imc < 18.5:\n",
    "    print(\"Classificação: Abaixo do peso\")\n",
    "elif 25.0 <= imc <= 29.9:\n",
    "    print(\"Classificação: Sobrepeso\")\n",
    "elif imc >= 30.0:\n",
    "    print(\"Classificação: Obesidade\")\n",
    "else:\n",
    "    print(\"Classificação: Peso normal\")\n"
   ]
  },
  {
   "cell_type": "code",
   "execution_count": 11,
   "id": "093a63b2-5d69-43a1-9010-f60ceb7a136d",
   "metadata": {},
   "outputs": [
    {
     "name": "stdin",
     "output_type": "stream",
     "text": [
      "Digite um número inteiro positivo:  7\n"
     ]
    },
    {
     "name": "stdout",
     "output_type": "stream",
     "text": [
      "A soma dos números pares de 0 até 7 é: 12\n"
     ]
    }
   ],
   "source": [
    "##EXERCICIO 2 \n",
    "n = int(input(\"Digite um número inteiro positivo: \"))\n",
    "\n",
    "if n < 0:\n",
    "    print(\"Por favor, digite um número positivo.\")\n",
    "else:\n",
    "    soma_pares = 0\n",
    "    for i in range(0, n + 1, 2):\n",
    "        soma_pares += i\n",
    "\n",
    "    print(\"A soma dos números pares de 0 até\", n, \"é:\", soma_pares)\n"
   ]
  },
  {
   "cell_type": "code",
   "execution_count": 28,
   "id": "8832b04f-38d0-4707-80db-ba515763da32",
   "metadata": {},
   "outputs": [
    {
     "name": "stdout",
     "output_type": "stream",
     "text": [
      "Jogador 1: 3, Jogador 2: 5. Resultado: Jogador 2 venceu!\n"
     ]
    }
   ],
   "source": [
    "##EXERCICIO 3\n",
    "import random\n",
    "\n",
    "def jogo_dados():\n",
    "    dado1 = random.randint(1, 6)\n",
    "    dado2 = random.randint(1, 6)\n",
    "\n",
    "    if dado1 > dado2:\n",
    "        resultado = \"Jogador 1 venceu\"\n",
    "    elif dado2 > dado1:\n",
    "        resultado = \"Jogador 2 venceu\"\n",
    "    else:\n",
    "        resultado = \"Empate\"\n",
    "\n",
    "    return \"Jogador 1: {}, Jogador 2: {}. Resultado: {}!\".format(dado1, dado2, resultado)\n",
    "\n",
    "print(jogo_dados())\n"
   ]
  },
  {
   "cell_type": "code",
   "execution_count": null,
   "id": "a284c60a-f3cf-45d9-8d63-1b486339ec3f",
   "metadata": {},
   "outputs": [],
   "source": []
  },
  {
   "cell_type": "code",
   "execution_count": null,
   "id": "6e83b994-9fbb-4703-a6f9-c2383141a24e",
   "metadata": {},
   "outputs": [],
   "source": []
  }
 ],
 "metadata": {
  "kernelspec": {
   "display_name": "Python [conda env:base] *",
   "language": "python",
   "name": "conda-base-py"
  },
  "language_info": {
   "codemirror_mode": {
    "name": "ipython",
    "version": 3
   },
   "file_extension": ".py",
   "mimetype": "text/x-python",
   "name": "python",
   "nbconvert_exporter": "python",
   "pygments_lexer": "ipython3",
   "version": "3.12.7"
  }
 },
 "nbformat": 4,
 "nbformat_minor": 5
}
